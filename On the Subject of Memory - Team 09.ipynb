{
 "cells": [
  {
   "cell_type": "code",
   "execution_count": 6,
   "id": "17905483",
   "metadata": {},
   "outputs": [
    {
     "name": "stdout",
     "output_type": "stream",
     "text": [
      "meow\n"
     ]
    },
    {
     "data": {
      "text/plain": [
       "'33311'"
      ]
     },
     "execution_count": 6,
     "metadata": {},
     "output_type": "execute_result"
    }
   ],
   "source": [
    "\n",
    "#ʎɹoɯǝW ɟo ʇɔǝɾqnS ǝɥʇ uO\n",
    "\n",
    "def keep_talking(array):\n",
    "    stages = {\"stage 1\":[], \"stage 2\":[], \"stage 3\":[], \"stage 4\":[], \"stage 5\":[]}\n",
    "    staged_cancer = []\n",
    "    for stage in range(len(array)+1):\n",
    "        if stage == 1:\n",
    "            if array[stage-1][4] == 1:\n",
    "                stages[\"stage 1\"] = [array[stage-1][1],2]\n",
    "            elif array[stage-1][4] == 2:\n",
    "                stages[\"stage 1\"] = [array[stage-1][1],2]\n",
    "            elif array[stage-1][4] == 3:\n",
    "                stages[\"stage 1\"] = [array[stage-1][2],3]\n",
    "            elif array[stage-1][4] == 4:\n",
    "                stages[\"stage 1\"] = [array[stage-1][3],4]\n",
    "        if stage == 2:\n",
    "            if array[stage-1][4] == 1:\n",
    "                stages[\"stage 2\"] = [4, array[stage-1].index(4)+1]\n",
    "            elif array[stage-1][4] == 2:\n",
    "                stages[\"stage 2\"] = [array[stage - 1][stages[\"stage 1\"][1]-1], stages[\"stage 1\"][1]]\n",
    "            elif array[stage-1][4] == 3:\n",
    "                stages[\"stage 2\"] = [array[stage - 1][0],1]\n",
    "            elif array[stage-1][4] == 4:\n",
    "                stages[\"stage 2\"] = [array[stage - 1][stages[\"stage 1\"][1]-1], stages[\"stage 1\"][1]]\n",
    "        if stage == 3:\n",
    "            if array[stage-1][4] == 1:\n",
    "                stages[\"stage 3\"] = [stages[\"stage 2\"][0], array[stage-1].index(stages[\"stage 2\"][0])+1]\n",
    "            elif array[stage-1][4] == 2:\n",
    "                stages[\"stage 3\"] = [stages[\"stage 1\"][0], array[stage-1].index(stages[\"stage 1\"][0])+1]\n",
    "            elif array[stage-1][4] == 3:\n",
    "                stages[\"stage 3\"] = [array[stage - 1][2],3]\n",
    "            elif array[stage-1][4] == 4:\n",
    "                stages[\"stage 3\"] = [4, array[stage-1].index(4)+1]\n",
    "        if stage == 4:\n",
    "            if array[stage-1][4] == 1:\n",
    "                stages[\"stage 4\"] = [array[stage - 1][stages[\"stage 1\"][1]-1], stages[\"stage 1\"][1]]\n",
    "            elif array[stage-1][4] == 2:\n",
    "                stages[\"stage 4\"] = [array[stage - 1][0],1]\n",
    "            elif array[stage-1][4] == 3:\n",
    "                stages[\"stage 4\"] = [array[stage - 1][stages[\"stage 2\"][1]-1], stages[\"stage 2\"][1]]\n",
    "            elif array[stage-1][4] == 4:\n",
    "                stages[\"stage 4\"] = [array[stage - 1][stages[\"stage 2\"][1]-1], stages[\"stage 2\"][1]]\n",
    "        if stage == 5:\n",
    "            if array[stage-1][4] == 1:\n",
    "                stages[\"stage 5\"] = [array[stage - 1][stages[\"stage 1\"][1]-1], stages[\"stage 1\"][1]]\n",
    "            elif array[stage-1][4] == 2:\n",
    "                stages[\"stage 5\"] = [array[stage - 1][stages[\"stage 2\"][1]-1], stages[\"stage 2\"][1]]\n",
    "            elif array[stage-1][4] == 3:\n",
    "                stages[\"stage 5\"] = [array[stage - 1][stages[\"stage 3\"][1]-1], stages[\"stage 3\"][1]]\n",
    "            elif array[stage-1][4] == 4:\n",
    "                stages[\"stage 5\"] = [array[stage - 1][stages[\"stage 4\"][1]-1], stages[\"stage 4\"][1]]\n",
    "    staged_cancer = [str(stages[\"stage 1\"][0]),str(stages[\"stage 2\"][0]),str(stages[\"stage 3\"][0]),\n",
    "                     str(stages[\"stage 4\"][0]),str(stages[\"stage 5\"][0])]\n",
    "    return \"\".join(staged_cancer)\n",
    "chemotherapy = [[1,3,2,4,1],\n",
    "                 [3,1,2,4,3],\n",
    "                 [2,3,4,1,2],\n",
    "                 [2,1,4,3,1],\n",
    "                 [4,1,2,3,4]]\n",
    "\n",
    "keep_talking(chemotherapy)"
   ]
  },
  {
   "cell_type": "code",
   "execution_count": null,
   "id": "282b944d",
   "metadata": {},
   "outputs": [],
   "source": []
  }
 ],
 "metadata": {
  "kernelspec": {
   "display_name": "Python 3 (ipykernel)",
   "language": "python",
   "name": "python3"
  },
  "language_info": {
   "codemirror_mode": {
    "name": "ipython",
    "version": 3
   },
   "file_extension": ".py",
   "mimetype": "text/x-python",
   "name": "python",
   "nbconvert_exporter": "python",
   "pygments_lexer": "ipython3",
   "version": "3.9.13"
  }
 },
 "nbformat": 4,
 "nbformat_minor": 5
}
